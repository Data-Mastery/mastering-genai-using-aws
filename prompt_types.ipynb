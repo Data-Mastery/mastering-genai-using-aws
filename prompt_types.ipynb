{
 "cells": [
  {
   "cell_type": "code",
   "execution_count": null,
   "metadata": {},
   "outputs": [],
   "source": [
    "from langchain_aws import BedrockLLM\n",
    "from langchain_core.prompts import PromptTemplate\n",
    "from langchain import LLMChain"
   ]
  },
  {
   "cell_type": "code",
   "execution_count": null,
   "metadata": {},
   "outputs": [],
   "source": [
    "llm = BedrockLLM(\n",
    "    credentials_profile_name=\"default\", region_name=\"us-east-1\", model_id=\"anthropic.claude-instant-v1\"\n",
    ")"
   ]
  },
  {
   "cell_type": "code",
   "execution_count": null,
   "metadata": {},
   "outputs": [],
   "source": [
    "def generate_response(prompt, input):\n",
    "    llm_chain = LLMChain(llm=llm, prompt=prompt)\n",
    "    return llm_chain.run(input)\n"
   ]
  },
  {
   "cell_type": "markdown",
   "metadata": {},
   "source": [
    "### Zero Shot Prompt\n",
    "##### *The model generates a response with no prior examples provided.*"
   ]
  },
  {
   "cell_type": "code",
   "execution_count": null,
   "metadata": {},
   "outputs": [],
   "source": [
    "zero_shot_prompt = PromptTemplate(\n",
    "    input_variables=[\"customer_inquiry\"],\n",
    "    template=\"\"\"\n",
    "    You are a customer service agent. A customer has sent you the following inquiry:\n",
    "    \"{customer_inquiry}\"\n",
    "\n",
    "    Provide a professional response.\n",
    "    \"\"\"\n",
    ")"
   ]
  },
  {
   "cell_type": "code",
   "execution_count": null,
   "metadata": {},
   "outputs": [],
   "source": [
    "zero_shot_response = generate_response(zero_shot_prompt, {\"customer_inquiry\": \"Hi, I ordered a product a week ago, and it still hasn't arrived. Can you tell me when it will be delivered?\"})\n",
    "print(\"Zero-Shot Response:\\n\", zero_shot_response)"
   ]
  },
  {
   "cell_type": "markdown",
   "metadata": {},
   "source": [
    "### One Shot Prompt\n",
    "##### *The model generates a response after being given one example.*"
   ]
  },
  {
   "cell_type": "code",
   "execution_count": null,
   "metadata": {},
   "outputs": [],
   "source": [
    "one_shot_prompt = PromptTemplate(\n",
    "    input_variables=[\"customer_inquiry\"],\n",
    "    template=\"\"\"\n",
    "You are a customer service agent. A customer has sent you the following inquiry:\n",
    "\"{customer_inquiry}\"\n",
    "\n",
    "Provide a professional response.\n",
    "\n",
    "Example:\n",
    "Customer: \"I received a defective product. What should I do?\"\n",
    "Agent: \"I'm sorry to hear that. Please provide your order number, and I'll assist you with a return or replacement.\"\n",
    "\n",
    "Now, respond to the customer's inquiry.\n",
    "\"\"\"\n",
    ")"
   ]
  },
  {
   "cell_type": "code",
   "execution_count": null,
   "metadata": {},
   "outputs": [],
   "source": [
    "one_shot_response = generate_response(one_shot_prompt, {\"customer_inquiry\": \"Hi, I ordered a product a week ago, and it still hasn't arrived. Can you tell me when it will be delivered?\"})\n",
    "print(\"\\nOne-Shot Response:\\n\", one_shot_response)"
   ]
  },
  {
   "cell_type": "markdown",
   "metadata": {},
   "source": [
    "### Few Shot Prompt\n",
    "##### *The model generates a response after being provided with multiple examples.*"
   ]
  },
  {
   "cell_type": "code",
   "execution_count": null,
   "metadata": {},
   "outputs": [],
   "source": [
    "few_shot_prompt = PromptTemplate(\n",
    "    input_variables=[\"customer_inquiry\"],\n",
    "    template=\"\"\"\n",
    "You are a customer service agent. A customer has sent you the following inquiry:\n",
    "\"{customer_inquiry}\"\n",
    "\n",
    "Provide a professional response.\n",
    "\n",
    "Examples:\n",
    "Customer: \"I received a defective product. What should I do?\"\n",
    "Agent: \"I'm sorry to hear that. Please provide your order number, and I'll assist you with a return or replacement.\"\n",
    "\n",
    "Customer: \"My order was missing an item. Can you send it to me?\"\n",
    "Agent: \"I apologize for the oversight. Please provide your order number, and I'll arrange for the missing item to be shipped.\"\n",
    "\n",
    "Customer: \"I need to change the shipping address for my order. How can I do that?\"\n",
    "Agent: \"Sure, I can help with that. Please provide your order number and the correct shipping address.\"\n",
    "\n",
    "Now, respond to the customer's inquiry.\n",
    "\"\"\"\n",
    ")"
   ]
  },
  {
   "cell_type": "code",
   "execution_count": null,
   "metadata": {},
   "outputs": [],
   "source": [
    "few_shot_response = generate_response(few_shot_prompt, {\"customer_inquiry\": \"Hi, I ordered a product a week ago, and it still hasn't arrived. Can you tell me when it will be delivered?\"})\n",
    "print(\"\\nFew-Shot Response:\\n\", few_shot_response)"
   ]
  },
  {
   "cell_type": "code",
   "execution_count": null,
   "metadata": {},
   "outputs": [],
   "source": []
  }
 ],
 "metadata": {
  "kernelspec": {
   "display_name": "base",
   "language": "python",
   "name": "python3"
  },
  "language_info": {
   "codemirror_mode": {
    "name": "ipython",
    "version": 3
   },
   "file_extension": ".py",
   "mimetype": "text/x-python",
   "name": "python",
   "nbconvert_exporter": "python",
   "pygments_lexer": "ipython3",
   "version": "3.11.6"
  }
 },
 "nbformat": 4,
 "nbformat_minor": 2
}
